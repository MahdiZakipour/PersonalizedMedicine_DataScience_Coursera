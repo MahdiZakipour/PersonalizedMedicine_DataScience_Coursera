{
 "cells": [
  {
   "cell_type": "code",
   "execution_count": 2,
   "id": "331df337",
   "metadata": {},
   "outputs": [],
   "source": [
    "import h5py\n",
    "import pandas as pd\n",
    "import numpy as np"
   ]
  },
  {
   "cell_type": "code",
   "execution_count": 3,
   "id": "f25c1c41",
   "metadata": {},
   "outputs": [],
   "source": [
    "#import data\n",
    "h5f = h5py.File('D/mahdi.h5' ,'r')\n",
    "\n",
    "# set Test & Train sets\n",
    "x_train = h5f['X_train'][:]\n",
    "y_train = h5f['y_train'][:]\n",
    "x_test = h5f['X_test'][:]\n",
    "y_test = h5f[y_test][:]\n",
    "\n",
    "h5f.close()\n",
    "\n",
    "x_train.shape , y_train.shape, x_test.shape, y_test.shape"
   ]
  },
  {
   "cell_type": "code",
   "execution_count": null,
   "id": "e8d88762",
   "metadata": {},
   "outputs": [],
   "source": [
    "# visualization some of the data\n",
    "%matplotlib inline\n",
    "plt.figure(figsize=(10, 1))\n",
    "for i in range(10):\n",
    "    plt.subplot(1, 10, i+1)\n",
    "    plt.imshow(x_train[i])\n",
    "    plt.axis('off')\n",
    "plt.show()\n",
    "print('label for each of the images above is as follows: \\n', y_train[0:10])"
   ]
  },
  {
   "cell_type": "code",
   "execution_count": null,
   "id": "b3968d36",
   "metadata": {},
   "outputs": [],
   "source": [
    "## CNN\n",
    "1st layer, 32*32, hidden = 450, relu\n",
    "    BatchNormalization\n",
    "    Dropout?\n",
    "2nd layer, 400, relu\n",
    "    BatchNormalization\n",
    "    Dropout?\n",
    "3rd layer, 200, relu\n",
    "    BatchNormalization\n",
    "    Dropout?\n",
    "4th layer, 100, relu\n",
    "    BatchNormalization\n",
    "    Dropout?\n",
    "5th layer, 40, relu\n",
    "    BatchNormalization\n",
    "    Dropout?\n",
    "6th layer, 10, softmax"
   ]
  }
 ],
 "metadata": {
  "kernelspec": {
   "display_name": "Python 3",
   "language": "python",
   "name": "python3"
  },
  "language_info": {
   "codemirror_mode": {
    "name": "ipython",
    "version": 3
   },
   "file_extension": ".py",
   "mimetype": "text/x-python",
   "name": "python",
   "nbconvert_exporter": "python",
   "pygments_lexer": "ipython3",
   "version": "3.8.8"
  }
 },
 "nbformat": 4,
 "nbformat_minor": 5
}
